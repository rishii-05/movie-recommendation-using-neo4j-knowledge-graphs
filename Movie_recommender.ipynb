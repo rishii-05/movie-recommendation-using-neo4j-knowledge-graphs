{
 "cells": [
  {
   "cell_type": "code",
   "execution_count": 1,
   "id": "93777685",
   "metadata": {},
   "outputs": [],
   "source": [
    "import pandas as pd\n",
    "from neo4j import GraphDatabase\n",
    "import json"
   ]
  },
  {
   "cell_type": "code",
   "execution_count": 12,
   "id": "e41a1ffa",
   "metadata": {},
   "outputs": [
    {
     "name": "stdout",
     "output_type": "stream",
     "text": [
      "Successfully connected to Neo4j!\n"
     ]
    }
   ],
   "source": [
    "# --- Connect to Neo4j ---\n",
    "# Make sure your Neo4j instance is RUNNING\n",
    "# Replace \"your_password_here\" with your real password\n",
    "uri = \""your_uri_here"\"\n",
    "user = \"neo4j\"\n",
    "password = \""your_password_here"\"\n",
    "\n",
    "driver = GraphDatabase.driver(uri, auth=(user, password))\n",
    "print(\"Successfully connected to Neo4j!\")"
   ]
  },
  {
   "cell_type": "code",
   "execution_count": 13,
   "id": "f3e49d18",
   "metadata": {},
   "outputs": [
    {
     "name": "stdout",
     "output_type": "stream",
     "text": [
      "Loaded 4803 movies and 4803 credits.\n",
      "Movie data columns:\n",
      "      budget                                             genres  \\\n",
      "0  237000000  [{\"id\": 28, \"name\": \"Action\"}, {\"id\": 12, \"nam...   \n",
      "\n",
      "                      homepage     id  \\\n",
      "0  http://www.avatarmovie.com/  19995   \n",
      "\n",
      "                                            keywords original_language  \\\n",
      "0  [{\"id\": 1463, \"name\": \"culture clash\"}, {\"id\":...                en   \n",
      "\n",
      "  original_title                                           overview  \\\n",
      "0         Avatar  In the 22nd century, a paraplegic Marine is di...   \n",
      "\n",
      "   popularity                               production_companies  \\\n",
      "0  150.437577  [{\"name\": \"Ingenious Film Partners\", \"id\": 289...   \n",
      "\n",
      "                                production_countries release_date     revenue  \\\n",
      "0  [{\"iso_3166_1\": \"US\", \"name\": \"United States o...   2009-12-10  2787965087   \n",
      "\n",
      "   runtime                                   spoken_languages    status  \\\n",
      "0    162.0  [{\"iso_639_1\": \"en\", \"name\": \"English\"}, {\"iso...  Released   \n",
      "\n",
      "                       tagline   title  vote_average  vote_count  \n",
      "0  Enter the World of Pandora.  Avatar           7.2       11800  \n",
      "\n",
      "Credit data columns:\n",
      "   movie_id   title                                               cast  \\\n",
      "0     19995  Avatar  [{\"cast_id\": 242, \"character\": \"Jake Sully\", \"...   \n",
      "\n",
      "                                                crew  \n",
      "0  [{\"credit_id\": \"52fe48009251416c750aca23\", \"de...  \n"
     ]
    }
   ],
   "source": [
    "# --- Load Datasets ---\n",
    "# Since the files are in the same folder, you can just use the filenames\n",
    "movies_df = pd.read_csv('tmdb_5000_movies.csv')\n",
    "credits_df = pd.read_csv('tmdb_5000_credits.csv')\n",
    "\n",
    "print(f\"Loaded {len(movies_df)} movies and {len(credits_df)} credits.\")\n",
    "\n",
    "# Let's look at the first movie to see the data\n",
    "print(\"Movie data columns:\")\n",
    "print(movies_df.head(1))\n",
    "\n",
    "print(\"\\nCredit data columns:\")\n",
    "print(credits_df.head(1))"
   ]
  },
  {
   "cell_type": "code",
   "execution_count": 14,
   "id": "360afa76",
   "metadata": {},
   "outputs": [],
   "source": [
    "# --- Clean and Process JSON Data ---\n",
    "\n",
    "# This function will safely parse the JSON text\n",
    "def parse_json_column(column_data):\n",
    "    try:\n",
    "        # Fill empty (NaN) values with an empty list '[]'\n",
    "        # then load the JSON text\n",
    "        return column_data.fillna('[]').apply(json.loads)\n",
    "    except Exception as e:\n",
    "        print(f\"Error parsing column: {e}\")\n",
    "        return None\n",
    "\n",
    "# Parse the 'genres' column from the movies dataframe\n",
    "movies_df['genres_list'] = parse_json_column(movies_df['genres'])\n",
    "\n",
    "# Parse 'cast' and 'crew' from the credits dataframe\n",
    "credits_df['cast_list'] = parse_json_column(credits_df['cast'])\n",
    "credits_df['crew_list'] = parse_json_column(credits_df['crew'])"
   ]
  },
  {
   "cell_type": "code",
   "execution_count": 15,
   "id": "8fe26e95",
   "metadata": {},
   "outputs": [],
   "source": [
    "# --- Extract Just the Names ---\n",
    "# We don't need the whole JSON object, just the names\n",
    "\n",
    "# Get just the genre names (e.g., ['Action', 'Adventure'])\n",
    "movies_df['genre_names'] = movies_df['genres_list'].apply(lambda x: [i['name'] for i in x])\n",
    "\n",
    "# Get just the actor names (e.g., ['Keanu Reeves', 'Carrie-Anne Moss'])\n",
    "# We'll only take the first 5 actors to keep the graph smaller\n",
    "credits_df['actor_names'] = credits_df['cast_list'].apply(lambda x: [i['name'] for i in x[:5]])\n",
    "\n",
    "# Get just the Director's name\n",
    "def get_director(crew_list):\n",
    "    for member in crew_list:\n",
    "        if member['job'] == 'Director':\n",
    "            return member['name']\n",
    "    return None\n",
    "\n",
    "credits_df['director_name'] = credits_df['crew_list'].apply(get_director)"
   ]
  },
  {
   "cell_type": "code",
   "execution_count": 16,
   "id": "ec055615",
   "metadata": {},
   "outputs": [
    {
     "name": "stdout",
     "output_type": "stream",
     "text": [
      "Data processing complete.\n",
      "Here's a sample of the final, clean data:\n",
      "                                    title_x  \\\n",
      "0                                    Avatar   \n",
      "1  Pirates of the Caribbean: At World's End   \n",
      "2                                   Spectre   \n",
      "3                     The Dark Knight Rises   \n",
      "4                               John Carter   \n",
      "\n",
      "                                     genre_names  \\\n",
      "0  [Action, Adventure, Fantasy, Science Fiction]   \n",
      "1                   [Adventure, Fantasy, Action]   \n",
      "2                     [Action, Adventure, Crime]   \n",
      "3               [Action, Crime, Drama, Thriller]   \n",
      "4           [Action, Adventure, Science Fiction]   \n",
      "\n",
      "                                         actor_names      director_name  \n",
      "0  [Sam Worthington, Zoe Saldana, Sigourney Weave...      James Cameron  \n",
      "1  [Johnny Depp, Orlando Bloom, Keira Knightley, ...     Gore Verbinski  \n",
      "2  [Daniel Craig, Christoph Waltz, Léa Seydoux, R...         Sam Mendes  \n",
      "3  [Christian Bale, Michael Caine, Gary Oldman, A...  Christopher Nolan  \n",
      "4  [Taylor Kitsch, Lynn Collins, Samantha Morton,...     Andrew Stanton  \n"
     ]
    }
   ],
   "source": [
    "# --- Combine Dataframes ---\n",
    "# We need to merge the two dataframes so movies and their cast are in one place\n",
    "# The 'id' column in movies_df matches the 'movie_id' in credits_df\n",
    "movies_df.rename(columns={'id': 'movie_id'}, inplace=True)\n",
    "full_data = pd.merge(movies_df, credits_df, on='movie_id')\n",
    "\n",
    "print(\"Data processing complete.\")\n",
    "print(\"Here's a sample of the final, clean data:\")\n",
    "\n",
    "# Show the columns we care about\n",
    "print(full_data[['title_x', 'genre_names', 'actor_names', 'director_name']].head())"
   ]
  },
  {
   "cell_type": "code",
   "execution_count": 17,
   "id": "facdf441",
   "metadata": {},
   "outputs": [
    {
     "name": "stdout",
     "output_type": "stream",
     "text": [
      "Starting to load data into Neo4j. This may take a few minutes...\n"
     ]
    }
   ],
   "source": [
    "# --- Load Data into Neo4j ---\n",
    "print(\"Starting to load data into Neo4j. This may take a few minutes...\")\n",
    "\n",
    "def run_cypher_query(query, params={}):\n",
    "    \"\"\"A helper function to run queries with the Neo4j driver\"\"\"\n",
    "    with driver.session() as session:\n",
    "        session.run(query, params)"
   ]
  },
  {
   "cell_type": "code",
   "execution_count": 18,
   "id": "d45d41e4",
   "metadata": {},
   "outputs": [],
   "source": [
    "# 1. Create Constraints (for speed and to prevent duplicates)\n",
    "# This tells Neo4j that 'title' on a Movie, 'name' on an Actor, etc., must be unique.\n",
    "run_cypher_query(\"CREATE CONSTRAINT IF NOT EXISTS FOR (m:Movie) REQUIRE m.title IS UNIQUE\")\n",
    "run_cypher_query(\"CREATE CONSTRAINT IF NOT EXISTS FOR (a:Actor) REQUIRE a.name IS UNIQUE\")\n",
    "run_cypher_query(\"CREATE CONSTRAINT IF NOT EXISTS FOR (d:Director) REQUIRE d.name IS UNIQUE\")\n",
    "run_cypher_query(\"CREATE CONSTRAINT IF NOT EXISTS FOR (g:Genre) REQUIRE g.name IS UNIQUE\")"
   ]
  },
  {
   "cell_type": "code",
   "execution_count": null,
   "id": "d977ee55",
   "metadata": {},
   "outputs": [
    {
     "name": "stdout",
     "output_type": "stream",
     "text": [
      "Processed 100 / 4803 movies\n",
      "Processed 200 / 4803 movies\n",
      "Processed 300 / 4803 movies\n",
      "Processed 400 / 4803 movies\n",
      "Processed 500 / 4803 movies\n",
      "Processed 600 / 4803 movies\n",
      "Processed 700 / 4803 movies\n",
      "Processed 800 / 4803 movies\n",
      "Processed 900 / 4803 movies\n",
      "Processed 1000 / 4803 movies\n",
      "Processed 1100 / 4803 movies\n",
      "Processed 1200 / 4803 movies\n",
      "Processed 1300 / 4803 movies\n",
      "Processed 1400 / 4803 movies\n",
      "Processed 1500 / 4803 movies\n"
     ]
    }
   ],
   "source": [
    "# 2. Loop through the dataframe and create nodes/relationships\n",
    "for index, row in full_data.iterrows():\n",
    "    \n",
    "    # Get the data for this movie\n",
    "    movie_title = row['title_x']\n",
    "    director_name = row['director_name']\n",
    "    actor_names = row['actor_names']\n",
    "    genre_names = row['genre_names']\n",
    "\n",
    "    # --- Create the Movie Node ---\n",
    "    # We use MERGE to create the movie node\n",
    "    # We use 'params' ($title) to safely pass data\n",
    "    q_movie = \"MERGE (m:Movie {title: $title})\"\n",
    "    run_cypher_query(q_movie, {'title': movie_title})\n",
    "\n",
    "    # --- Create Director and Relationship ---\n",
    "    if director_name:\n",
    "        # Create the Director node\n",
    "        q_director = \"MERGE (d:Director {name: $name})\"\n",
    "        run_cypher_query(q_director, {'name': director_name})\n",
    "        \n",
    "        # Connect the Director to the Movie\n",
    "        q_dir_rel = \"\"\"\n",
    "        MATCH (d:Director {name: $d_name})\n",
    "        MATCH (m:Movie {title: $m_title})\n",
    "        MERGE (d)-[:DIRECTED]->(m)\n",
    "        \"\"\"\n",
    "        run_cypher_query(q_dir_rel, {'d_name': director_name, 'm_title': movie_title})\n",
    "\n",
    "    # --- Create Actors and Relationships ---\n",
    "    for actor_name in actor_names:\n",
    "        # Create the Actor node\n",
    "        q_actor = \"MERGE (a:Actor {name: $name})\"\n",
    "        run_cypher_query(q_actor, {'name': actor_name})\n",
    "\n",
    "        # Connect the Actor to the Movie\n",
    "        q_act_rel = \"\"\"\n",
    "        MATCH (a:Actor {name: $a_name})\n",
    "        MATCH (m:Movie {title: $m_title})\n",
    "        MERGE (a)-[:ACTED_IN]->(m)\n",
    "        \"\"\"\n",
    "        run_cypher_query(q_act_rel, {'a_name': actor_name, 'm_title': movie_title})\n",
    "\n",
    "    # --- Create Genres and Relationships ---\n",
    "    for genre_name in genre_names:\n",
    "        # Create the Genre node\n",
    "        q_genre = \"MERGE (g:Genre {name: $name})\"\n",
    "        run_cypher_query(q_genre, {'name': genre_name})\n",
    "\n",
    "        # Connect the Movie to the Genre\n",
    "        q_gen_rel = \"\"\"\n",
    "        MATCH (m:Movie {title: $m_title})\n",
    "        MATCH (g:Genre {name: $g_name})\n",
    "        MERGE (m)-[:HAS_GENRE]->(g)\n",
    "        \"\"\"\n",
    "        run_cypher_query(q_gen_rel, {'m_title': movie_title, 'g_name': genre_name})\n",
    "\n",
    "    # Print progress every 100 movies\n",
    "    if (index + 1) % 100 == 0:\n",
    "        print(f\"Processed {index + 1} / {len(full_data)} movies\")\n",
    "\n",
    "print(\"--- All Data Loaded Successfully! ---\")\n",
    "# Don't forget to close the driver when you're done\n",
    "driver.close()"
   ]
  },
  {
   "cell_type": "code",
   "execution_count": null,
   "id": "ae7ee0b6",
   "metadata": {},
   "outputs": [],
   "source": []
  }
 ],
 "metadata": {
  "kernelspec": {
   "display_name": "Python 3 (ipykernel)",
   "language": "python",
   "name": "python3"
  },
  "language_info": {
   "codemirror_mode": {
    "name": "ipython",
    "version": 3
   },
   "file_extension": ".py",
   "mimetype": "text/x-python",
   "name": "python",
   "nbconvert_exporter": "python",
   "pygments_lexer": "ipython3",
   "version": "3.11.5"
  }
 },
 "nbformat": 4,
 "nbformat_minor": 5
}
